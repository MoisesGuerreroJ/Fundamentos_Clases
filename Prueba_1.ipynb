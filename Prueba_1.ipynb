{
  "cells": [
    {
      "cell_type": "markdown",
      "metadata": {
        "id": "7vGMRorix7fJ"
      },
      "source": [
        "# **Prueba \\#1**\n",
        "\n",
        "En la siguiente pureba se evalua de manera EXCLUSIVA lo que se solicita, cualquier otra respuesta adicional a ella será valorada, más no evaluada. Entregue la prueba en un repositorio de github antes de el lunes 7 de agosto a las 23:59:59.\n",
        "\n"
      ]
    },
    {
      "cell_type": "markdown",
      "metadata": {
        "id": "L_EKs0azdcPk"
      },
      "source": [
        "### Nombres grupo:\n",
        "\n",
        "- Moisés Guerrero\n",
        "- Melissa Arévalo\n",
        "- Andrés Licona"
      ]
    },
    {
      "cell_type": "markdown",
      "metadata": {
        "id": "2JiTz8I9yhXB"
      },
      "source": [
        "## **Ejercicio 1** (50 pts)\n",
        "\n",
        "Escriba una clase `Pedido` que pueda ser usada para gestionar la información de los pedidos realizados a una pastelería (o carnicería o tienda de ropa o empresa que ud desee). Evite usar módulos como numpy, pandas o cualquier otro.\n",
        "\n",
        "### **Rubrica**:\n",
        "\n",
        "1. Generación de la clase que funcione correctamente con al menos 2 métodos y 2 atributos. **30 pts**.\n",
        "2. Comentarios y  documentación que sirva para quien deba usar la clase. **5 pts**.\n",
        "3. Pertinencia de la clase en el ámbito, ¿Por qué será útil esta herramienta y cómo ayudará a mejorar el negocio? esta será entregada en una celda de texto. **10 pts**.\n",
        "4. ¿Cree que se pueda construir una clase hija que ayude al proceso? Si sí constrúyala, sino, argumente por qué en una célda de código. **5 pts**."
      ]
    },
    {
      "cell_type": "code",
      "execution_count": 1,
      "metadata": {
        "id": "AgwS8cBnx5Zc"
      },
      "outputs": [],
      "source": [
        "class Pedido():\n",
        "    def __init__(self, numero_pedido: int, cliente: str, direccion: str, lista_productos: list = []):\n",
        "        \"\"\"\n",
        "        Inicializa una instancia de la clase PedidoOnline.\n",
        "        Parámetros:\n",
        "        numero_pedido (int): Número único que identifica el pedido.\n",
        "        cliente (str): Nombre completo del cliente\n",
        "        direccion (str): Direccion del cliente\n",
        "        lista_productos (list): Lista de productos en el pedido.\n",
        "        \"\"\"\n",
        "        self.numero_pedido = numero_pedido\n",
        "        self.cliente = cliente\n",
        "        self.direccion = direccion\n",
        "        self.lista_productos = lista_productos\n",
        "\n",
        "    def agregar_producto(self, producto:str):\n",
        "        \"\"\"\n",
        "        Agrega un nuevo producto al pedido,adicionando el producto al\n",
        "        atributo lista_productos.\n",
        "\n",
        "        Parámetros:\n",
        "        producto (str): Nombre del producto a agregar.\n",
        "        \"\"\"\n",
        "        print(f\"Se agregó el producto '{producto}' a la lista de productos\")\n",
        "        self.lista_productos.append(producto)\n",
        "    def estado_entrega(self):\n",
        "        \"\"\"\n",
        "        Actualiza el estado de entrega del pedido para los posibles\n",
        "        estados definidos:\n",
        "         [1] Pendiente de pago\n",
        "         [2] Pendiente de entrega\n",
        "         [3] Entregado\n",
        "        El usuario debe indicar mediante el número el estado correspondiente como input semanas\n",
        "        \"\"\"\n",
        "        print(\"Indique uno de los siguientes números para asignar estado: \")\n",
        "        print(\"\"\"\n",
        "        [1] Pendiente de pago\n",
        "        [2] Pendiente de entrega\n",
        "        [3] Entregado\n",
        "        \"\"\")\n",
        "        estados = ['Pendiente de pago', 'Pendiente de entrega', 'Entregado']\n",
        "        status_index = int(input(\"Ingrese el número asignado al estado del pedido: \")) - 1\n",
        "        try:\n",
        "            self.status = estados[status_index]\n",
        "            print(f\"Se asigna el estado {estados[status_index]}\")\n",
        "        except Exception as e:\n",
        "            print(\"Ocurrió un error al intentar asignar el estado...\")\n",
        "            raise e"
      ]
    },
    {
      "cell_type": "code",
      "source": [
        "pedido1 = Pedido(\n",
        "    numero_pedido = 1,\n",
        "    cliente = \"Carlos García\",\n",
        "    direccion = \"Calle 25 # 33B - 16\",\n",
        "    lista_productos = ['filete de cerdo', 'pechuga de pollo', 'carne molida']\n",
        "    )\n",
        "pedido1.agregar_producto('filete de salmón')\n",
        "pedido1.estado_entrega()\n",
        "print(pedido1.lista_productos)\n",
        "print(pedido1.status)"
      ],
      "metadata": {
        "colab": {
          "base_uri": "https://localhost:8080/"
        },
        "id": "SQFXXcGCReHZ",
        "outputId": "f7e82977-79ae-4da1-8d23-54f6f1d05915"
      },
      "execution_count": 2,
      "outputs": [
        {
          "output_type": "stream",
          "name": "stdout",
          "text": [
            "Se agregó el producto 'filete de salmón' a la lista de productos\n",
            "Indique uno de los siguientes números para asignar estado: \n",
            "\n",
            "        [1] Pendiente de pago\n",
            "        [2] Pendiente de entrega\n",
            "        [3] Entregado\n",
            "        \n",
            "Ingrese el número asignado al estado del pedido: 2\n",
            "Se asigna el estado Pendiente de entrega\n",
            "['filete de cerdo', 'pechuga de pollo', 'carne molida', 'filete de salmón']\n",
            "Pendiente de entrega\n"
          ]
        }
      ]
    },
    {
      "cell_type": "markdown",
      "metadata": {
        "id": "KFTCchLbdcPz"
      },
      "source": [
        "#### 3. Utilidad de la herramienta\n",
        "**R/** Esta herramienta es muy útil para un negocio como una pastelería, una carnicería, tienda de ropa u otros, porque ayuda a ordenar y asignar estados de los pedidos realizados, así como guardar el listado de productos incluidos dentro del pedido.\n",
        "\n",
        "#### 4. Clase hija de la clase pedido\n",
        "\n",
        "**R/** Sí es posible construir una clase hija a partir de la clase \"Pedido\", por ejemplo si se requiere extender las funcionalidades originales para, por ejemplo, hacer pedidos online.\n",
        "\n",
        "En tal caso, creamos una clase hija \"PedidoOnline\" que hereda los atributos y metodos de la clase \"Pedido\" y agrega atributos para incluir el correo electrónico del cliente y metodos para agregar información como preguntas realizadas por el cliente, puntuación del servicio dada luego de realizada la entrega."
      ]
    },
    {
      "cell_type": "code",
      "execution_count": 3,
      "metadata": {
        "id": "y7M-yUMOdcP0"
      },
      "outputs": [],
      "source": [
        "class PedidoOnline(Pedido):\n",
        "    def __init__(self, numero_pedido: int, cliente: str, direccion: str, email_cliente: str, lista_productos: list = []):\n",
        "        \"\"\"\n",
        "        Inicializa una instancia de la clase PedidoOnline.\n",
        "        Adicionalmente crea el atributo preguntas como una lista vacía donde se incluirán\n",
        "        todas las preguntas del cliente y respuestas dadas por el vendedor.\n",
        "        Parámetros:\n",
        "        numero_pedido (int): Número único que identifica el pedido.\n",
        "        cliente (str): Nombre completo del cliente\n",
        "        direccion (str): Direccion del cliente\n",
        "        email_cliente (str): Correo electronico del cliente\n",
        "        lista_productos (list): Lista de productos en el pedido.\n",
        "        \"\"\"\n",
        "        Pedido.__init__(self, numero_pedido, cliente, direccion, lista_productos)\n",
        "        self.email_cliente = email_cliente\n",
        "        self.preguntas = []\n",
        "    def responder_pregunta_cliente(self, pregunta):\n",
        "        \"\"\"\n",
        "        Agrega una pregunta dada por el cliente al sistema para que el vendedor pueda\n",
        "        dar respuesta en el sistema.\n",
        "        Parámetros:\n",
        "        pregunta (str): Cadena de texto con la pregunta realizada por el cliente\n",
        "        \"\"\"\n",
        "        print(f\"Pregunta realizada por el cliente: \\n '{pregunta}'\")\n",
        "        respuesta = str(input(\"Responder: \\n\"))\n",
        "        self.preguntas.append((pregunta, respuesta))\n",
        "        return self.preguntas\n",
        "    def puntuacion_servicio(self, puntuacion: int):\n",
        "        \"\"\"\n",
        "        Asigna una puntuación al servicio prestado entre 1 y 10\n",
        "        Parámetros:\n",
        "        puntuacion (int): Valor entero entre 1 y 10\n",
        "        \"\"\"\n",
        "        print(f\"Puntuacion dada por el cliente sobre el servicio prestado: {puntuacion}/10\")\n",
        "        if puntuacion in range(1,11):\n",
        "            self.puntuacion = puntuacion\n",
        "        else:\n",
        "            raise Exception(f\"La puntuacion suministrada '{puntuacion}' no es valida. Debe ser un número entre 1 y 10\")"
      ]
    },
    {
      "cell_type": "code",
      "source": [
        "pedidoOnline1 = PedidoOnline(\n",
        "    numero_pedido = 2,\n",
        "    cliente = \"Carlos García\",\n",
        "    direccion = \"Calle 25 # 33B - 16\",\n",
        "    email_cliente = \"carlos.garcia237@gmail.com\",\n",
        "    lista_productos = ['filete de cerdo', 'pechuga de pollo', 'carne molida']\n",
        ")\n",
        "preguntas = pedidoOnline1.responder_pregunta_cliente(\n",
        "    pregunta = \"¿Tiene disponibles muslos de pollo para incluir al pedido?\"\n",
        ")\n",
        "print(preguntas)\n",
        "\n",
        "pedidoOnline1.agregar_producto(\"muslos de pollo\")\n",
        "pedidoOnline1.estado_entrega()\n",
        "print(pedidoOnline1.lista_productos)\n",
        "pedidoOnline1.puntuacion_servicio(10)"
      ],
      "metadata": {
        "colab": {
          "base_uri": "https://localhost:8080/"
        },
        "id": "D9TP2iYINoE1",
        "outputId": "7afb4bbb-5e88-4146-87cb-8c0c98ee6a9f"
      },
      "execution_count": 4,
      "outputs": [
        {
          "output_type": "stream",
          "name": "stdout",
          "text": [
            "Pregunta realizada por el cliente: \n",
            " '¿Tiene disponibles muslos de pollo para incluir al pedido?'\n",
            "Responder: \n",
            "Si señor, si tenemos disponibles\n",
            "[('¿Tiene disponibles muslos de pollo para incluir al pedido?', 'Si señor, si tenemos disponibles')]\n",
            "Se agregó el producto 'muslos de pollo' a la lista de productos\n",
            "Indique uno de los siguientes números para asignar estado: \n",
            "\n",
            "        [1] Pendiente de pago\n",
            "        [2] Pendiente de entrega\n",
            "        [3] Entregado\n",
            "        \n",
            "Ingrese el número asignado al estado del pedido: 3\n",
            "Se asigna el estado Entregado\n",
            "['filete de cerdo', 'pechuga de pollo', 'carne molida', 'muslos de pollo']\n",
            "Puntuacion dada por el cliente sobre el servicio prestado: 10/10\n"
          ]
        }
      ]
    },
    {
      "cell_type": "markdown",
      "metadata": {
        "id": "pnfosm2l12c5"
      },
      "source": [
        "## **Ejercicio 2** (50 pts)\n",
        "\n",
        "Realice los siguientes ejercicios con numpy\n",
        "\n",
        "1. Resolver el siguiente sistema de ecuaciones. **16 pts**\n",
        "\n",
        "$$\n",
        "2x + 3y - z + 4w + 5v = 15\n",
        "$$\n",
        "\n",
        "$$\n",
        "x - 2y + 4z - 3w + v = 6\n",
        "$$\n",
        "\n",
        "$$\n",
        "3x + 2y - 3z + 5w - 2v = 11\n",
        "$$\n",
        "\n",
        "$$\n",
        "4x + y - 2z + 3w + 2v = 8\n",
        "$$\n",
        "\n",
        "$$\n",
        "x + y + z + w + v = 7\n",
        "$$\n",
        "\n",
        "2. Calcule el valor del número de Euler o constante de Napier $e = 2,71828$ como:\n",
        "\n",
        "$$e = \\sum_i ^{\\infty} \\frac{1}{n!}$$\n",
        "\n",
        "  ¿Qué precisión en términos de el número de términos necesita para dar cuenta de los primeros 5 números de la coma decimal? **18 pts**\n",
        "\n",
        "3. Escriba el polinomio característico de la matriz en una celda de texto, déje registrado en una de código cómo obtuvo los valores característicos.  **16 pts**\n",
        "\n",
        "$$\n",
        "\\begin{pmatrix}\n",
        "2 & 1 & 1 \\\\\n",
        "4 & 3 & 2 \\\\\n",
        "1 & 1 & 2 \\\\\n",
        "\\end{pmatrix}\n",
        "$$\n",
        "\n"
      ]
    },
    {
      "cell_type": "code",
      "execution_count": 5,
      "metadata": {
        "id": "yFSzcRzVdcP2"
      },
      "outputs": [],
      "source": [
        "import numpy as np\n",
        "from scipy.special import factorial"
      ]
    },
    {
      "cell_type": "markdown",
      "metadata": {
        "id": "OsNNadFXdcP3"
      },
      "source": [
        "#### 1. Sistema de ecuaciones"
      ]
    },
    {
      "cell_type": "code",
      "execution_count": 6,
      "metadata": {
        "id": "4Hq0DTDcdcP4",
        "outputId": "5b10556d-e489-474e-b239-1c7fa099675b",
        "colab": {
          "base_uri": "https://localhost:8080/"
        }
      },
      "outputs": [
        {
          "output_type": "stream",
          "name": "stdout",
          "text": [
            "x = -1.677419354838709\n",
            "y = -7.870967741935489\n",
            "z = 5.129032258064518\n",
            "w = 10.000000000000004\n",
            "v = 1.4193548387096788\n"
          ]
        }
      ],
      "source": [
        "f1 = [2, 3, -1, 4, 5]\n",
        "f2 = [1, -2, 4, -3, 1]\n",
        "f3 = [3, 2, -3, 5, -2]\n",
        "f4 = [4, 1, -2, 3, 2]\n",
        "f5 = [1, 1, 1, 1, 1]\n",
        "\n",
        "b = np.array([15, 6, 11 , 8, 7])\n",
        "\n",
        "matriz = np.array([f1,f2,f3,f4,f5])\n",
        "\n",
        "\n",
        "def res_ecuation_sistem(matriz,b):\n",
        "    \"\"\"\n",
        "    Función que resuelve un sistema de ecuaciones lineales.\n",
        "\n",
        "    Parámetros:\n",
        "    matriz (numpy.ndarray): Una matriz de coeficientes del sistema de ecuaciones.\n",
        "    b (numpy.ndarray): Un vector de términos independientes.\n",
        "\n",
        "    Retorna:\n",
        "    numpy.ndarray: Un vector con las soluciones del sistema.\n",
        "\n",
        "    Ejemplo:\n",
        "    >>> matriz = np.array([[2, 3, -1, 4, 5],\n",
        "                           [1, -2, 4, -3, 1],\n",
        "                           [3, 2, -3, 5, -2],\n",
        "                           [4, 1, -2, 3, 2],\n",
        "                           [1, 1, 1, 1, 1]])\n",
        "    >>> b = np.array([15, 6, 11, 8, 7])\n",
        "    >>> res_ecuation_sistem(matriz, b)\n",
        "    array([-1.67741935, -7.87096774,  5.12903226, 10.        ,  1.41935484])\n",
        "    \"\"\"\n",
        "    R = np.linalg.inv(matriz).dot(b)\n",
        "    return R\n",
        "\n",
        "x,y,z,w,v = res_ecuation_sistem(matriz,b)\n",
        "print(f\"x = {x}\")\n",
        "print(f\"y = {y}\")\n",
        "print(f\"z = {z}\")\n",
        "print(f\"w = {w}\")\n",
        "print(f\"v = {v}\")"
      ]
    },
    {
      "cell_type": "markdown",
      "metadata": {
        "id": "y5Jw4IpedcP6"
      },
      "source": [
        "#### 2. Número de Euler"
      ]
    },
    {
      "cell_type": "code",
      "execution_count": 7,
      "metadata": {
        "id": "WqLEtz-udcP7",
        "outputId": "2dff61ab-02af-4471-d65f-8c78ff4e5759",
        "colab": {
          "base_uri": "https://localhost:8080/"
        }
      },
      "outputs": [
        {
          "output_type": "stream",
          "name": "stdout",
          "text": [
            "La cantidad de términos para llegar a una precisión de valor de 2.71828 es de 9 términos\n"
          ]
        }
      ],
      "source": [
        "def calc_euler_value(n):\n",
        "    \"\"\"\n",
        "    Esta función calcula el número de Euler o Constante de Napier como la sumatoria del inverso de los factoriales de 1 a n.\n",
        "    argumentos:\n",
        "    n: Int = cantidad de elementos en la sumatoria\n",
        "    \"\"\"\n",
        "    # Crear un arreglo con n valores, empezando en 0\n",
        "    arr = np.arange(n)\n",
        "    # Calcular los factoriales de los valores del arreglo\n",
        "    factoriales = factorial(arr)\n",
        "    # Sumar el inverso de los factoriales\n",
        "    valor_e = (np.sum(1/factoriales))\n",
        "    return valor_e\n",
        "\n",
        "def determinar_cantidad_elementos(start:int = 1):\n",
        "    \"\"\"\n",
        "    Esta función determina la cantidad de números mínimos para obtener el valor Euler con una precisión de 5 decimales\n",
        "    \"\"\"\n",
        "    # Valor Euler de referencia\n",
        "    e_value = 2.71828\n",
        "    # Se itera, a través de un while, hasta obtener la precisión deseada\n",
        "    while abs(calc_euler_value(start) - e_value) > 0.00001:\n",
        "        start += 1\n",
        "    print('La cantidad de términos para llegar a una precisión de valor de {valor_euler} es de {num} términos'.format(valor_euler=e_value, num=start))\n",
        "\n",
        "determinar_cantidad_elementos()"
      ]
    },
    {
      "cell_type": "markdown",
      "metadata": {
        "id": "8gu89-aP5ibM"
      },
      "source": [
        "#### 3. Polinomio característico de la matriz\n",
        "\n",
        "Siendo\n",
        "$$\n",
        "A = \\begin{pmatrix}\n",
        "2 & 1 & 1 \\\\\n",
        "4 & 3 & 2 \\\\\n",
        "1 & 1 & 2 \\\\\n",
        "\\end{pmatrix}\n",
        "$$\n",
        "\n",
        "El polinomio característico de la matriz viene dado por:\n",
        "\n",
        "$$ det(A - \\lambda I)=0$$\n",
        "\n",
        "Por tanto sería:\n",
        "\n",
        "$$\n",
        "det \\begin{pmatrix}\n",
        "\\begin{pmatrix}\n",
        "2 & 1 & 1 \\\\\n",
        "4 & 3 & 2 \\\\\n",
        "1 & 1 & 2 \\\\\n",
        "\\end{pmatrix}-\n",
        "\\begin{pmatrix}\n",
        "\\lambda & 0 & 0 \\\\\n",
        "0 & \\lambda & 0 \\\\\n",
        "0 & 0 & \\lambda \\\\\n",
        "\\end{pmatrix}\n",
        "\\end{pmatrix}\n",
        "= det\\begin{pmatrix}\n",
        "2-\\lambda & 1 & 1 \\\\\n",
        "4 & 3-\\lambda & 2 \\\\\n",
        "1 & 1 & 2-\\lambda \\\\\n",
        "\\end{pmatrix} = 0\n",
        "$$\n",
        "\n",
        "$$\n",
        "-\\lambda^{3}+7\\lambda^{2}-9\\lambda+3 = 0\n",
        "$$\n",
        "\n",
        "Despejando $\\lambda$ se obtienen los valores:\n",
        "\n",
        "$$\\lambda_{1} = 1$$\n",
        "$$\\lambda_{2} = 0.55$$\n",
        "$$\\lambda_{3} = 5.45$$"
      ]
    },
    {
      "cell_type": "code",
      "execution_count": 8,
      "metadata": {
        "id": "8gQbzOgOdcP9",
        "outputId": "a6d089cf-19cf-4eab-9eda-b5d9dc22a570",
        "colab": {
          "base_uri": "https://localhost:8080/"
        }
      },
      "outputs": [
        {
          "output_type": "stream",
          "name": "stdout",
          "text": [
            "lambda_1 = 5.44948974278318\n",
            "lambda_2 = 0.5505102572168231\n",
            "lambda_3 = 0.9999999999999993\n"
          ]
        },
        {
          "output_type": "execute_result",
          "data": {
            "text/plain": [
              "array([5.44948974, 0.55051026, 1.        ])"
            ]
          },
          "metadata": {},
          "execution_count": 8
        }
      ],
      "source": [
        "# Usando la funcion np.linalg.eigvals() de numpy se obtiene un array con los valores propios para la matriz M dada\n",
        "\n",
        "def valores_propios(M):\n",
        "    \"\"\"\n",
        "    Para un array de numpy dado, calcula los valores propios asociados, retornando un arreglo con los valores de lambda.\n",
        "    Ex:\n",
        "        In[0]: valores_propios(np.array([[2,1,1], [4,3,2], [1,1,2]]))\n",
        "        Out[0]: array([5.44948974, 0.55051026, 1.        ])\n",
        "    \"\"\"\n",
        "    eigvals = np.linalg.eigvals(M)\n",
        "    for index, i in enumerate(eigvals):\n",
        "        print(f\"lambda_{index+1} = {i}\")\n",
        "    return eigvals\n",
        "\n",
        "A = np.array([[2,1,1],\n",
        "              [4,3,2],\n",
        "              [1,1,2]])\n",
        "valores_propios(A)"
      ]
    }
  ],
  "metadata": {
    "colab": {
      "provenance": []
    },
    "kernelspec": {
      "display_name": "Python 3 (ipykernel)",
      "language": "python",
      "name": "python3"
    },
    "language_info": {
      "codemirror_mode": {
        "name": "ipython",
        "version": 3
      },
      "file_extension": ".py",
      "mimetype": "text/x-python",
      "name": "python",
      "nbconvert_exporter": "python",
      "pygments_lexer": "ipython3",
      "version": "3.9.6"
    }
  },
  "nbformat": 4,
  "nbformat_minor": 0
}